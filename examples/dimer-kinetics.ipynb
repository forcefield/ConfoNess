{
 "cells": [
  {
   "cell_type": "code",
   "execution_count": 1,
   "metadata": {
    "collapsed": true
   },
   "outputs": [],
   "source": [
    "import sys\n",
    "sys.path.insert( 0, '../')\n",
    "import ness\n",
    "import rxnet"
   ]
  },
  {
   "cell_type": "code",
   "execution_count": 2,
   "metadata": {
    "collapsed": true
   },
   "outputs": [],
   "source": [
    "import numpy as np"
   ]
  },
  {
   "cell_type": "code",
   "execution_count": 3,
   "metadata": {
    "collapsed": true
   },
   "outputs": [],
   "source": [
    "%matplotlib inline\n",
    "from matplotlib import pyplot as plt\n",
    "import matplotlib\n",
    "matplotlib.rcParams.update( {'font.size':20})"
   ]
  },
  {
   "cell_type": "markdown",
   "metadata": {},
   "source": [
    "## Dimer pharmacokinetics"
   ]
  },
  {
   "cell_type": "markdown",
   "metadata": {},
   "source": [
    "I will consider a drug molecule that acts as a homodimer and constructs a detailed model of its pharmacokinetics.  The molecule, $L$, dimerizes before it can bind to its target $R$.  The corresponding reactions are:"
   ]
  },
  {
   "cell_type": "markdown",
   "metadata": {},
   "source": [
    "$L + L \\underset{k_1}{\\stackrel{k_2}{\\rightleftharpoons}} L_2$"
   ]
  },
  {
   "cell_type": "markdown",
   "metadata": {},
   "source": [
    "$L_2 + R \\underset{k_d}{\\stackrel{k_a}{\\rightleftharpoons}} RL_2$"
   ]
  },
  {
   "cell_type": "markdown",
   "metadata": {},
   "source": [
    "Supose that this is an intracellular target.  The molecule has to first permeate through the membrane to get into the cell.  Denoting the extracellular molecule as $L_e$:"
   ]
  },
  {
   "cell_type": "markdown",
   "metadata": {},
   "source": [
    "$L_e \\underset{\\beta}{\\stackrel{\\alpha}{\\rightleftharpoons}} L$"
   ]
  },
  {
   "cell_type": "markdown",
   "metadata": {},
   "source": [
    "The extracellular molecules are cleared out by metabolism:"
   ]
  },
  {
   "cell_type": "markdown",
   "metadata": {},
   "source": [
    "$L_e \\stackrel{\\gamma}{\\rightarrow} \\varnothing$ "
   ]
  },
  {
   "cell_type": "markdown",
   "metadata": {},
   "source": [
    "Let $\\vec{x} = ( L_e, L, L_2, R, RL_2 )^t$, the reaction stoichiometry matrix is "
   ]
  },
  {
   "cell_type": "markdown",
   "metadata": {},
   "source": [
    "### Pharmacokinetic constants"
   ]
  },
  {
   "cell_type": "markdown",
   "metadata": {},
   "source": [
    "The permeability constant $P$ is defined by $dQ/dt = P C_e A$, where $Q$ is the quantity of permeated molecules, $C_e$ is the concentration on the source side of the membrane (the extracellular side), and $A$ is the surface area of permeable membrane (cell surface area $A = 4\\pi r^2$).  Dividing both sides by the cell volume $V = 4\\pi r^3/3$, we have "
   ]
  },
  {
   "cell_type": "markdown",
   "metadata": {},
   "source": [
    "$\\alpha = \\beta = C_e^{-1} \\frac{dC_i}{dt} = P A/V = 3 P/r$ "
   ]
  },
  {
   "cell_type": "markdown",
   "metadata": {},
   "source": [
    "Cell radius, in cm (because permeability is often given in cm/s)"
   ]
  },
  {
   "cell_type": "code",
   "execution_count": 4,
   "metadata": {
    "collapsed": true
   },
   "outputs": [],
   "source": [
    "rcell = 2e-3 "
   ]
  },
  {
   "cell_type": "markdown",
   "metadata": {},
   "source": [
    "The good, moderate, and poor permeability"
   ]
  },
  {
   "cell_type": "code",
   "execution_count": 5,
   "metadata": {},
   "outputs": [
    {
     "data": {
      "text/plain": [
       "{'good': 0.015000000000000001,\n",
       " 'okay': 3.0000000000000004e-05,\n",
       " 'poor': 1.5000000000000002e-06}"
      ]
     },
     "execution_count": 5,
     "metadata": {},
     "output_type": "execute_result"
    }
   ],
   "source": [
    "perms = dict( good = 1.e-5,\n",
    "              okay = 2.e-8,\n",
    "              poor = 1.e-9 )\n",
    "alphas = dict( [(v, 3*p/rcell) for v, p in perms.items()])\n",
    "alphas"
   ]
  },
  {
   "cell_type": "markdown",
   "metadata": {},
   "source": [
    "The elimination rate constant, assuming a half-life of 0.5 hour, is"
   ]
  },
  {
   "cell_type": "code",
   "execution_count": 6,
   "metadata": {},
   "outputs": [
    {
     "data": {
      "text/plain": [
       "0.0003850817669777474"
      ]
     },
     "execution_count": 6,
     "metadata": {},
     "output_type": "execute_result"
    }
   ],
   "source": [
    "hour = 3600 # seconds in hour\n",
    "gamma = np.log(2)/(0.5*hour)\n",
    "gamma"
   ]
  },
  {
   "cell_type": "markdown",
   "metadata": {},
   "source": [
    "### Good permeability, moderate affinity, moderate dimerization"
   ]
  },
  {
   "cell_type": "code",
   "execution_count": 7,
   "metadata": {
    "collapsed": true
   },
   "outputs": [],
   "source": [
    "ks = dict( k2=1.e2, k1=2.e1,\n",
    "           ka=1.e2, kd=1.e2,\n",
    "           alpha=alphas['good'], beta=alphas['good'],\n",
    "           gamma=gamma)"
   ]
  },
  {
   "cell_type": "code",
   "execution_count": 8,
   "metadata": {
    "collapsed": true
   },
   "outputs": [],
   "source": [
    "krx = np.array( [ [ ks['k2'], ks['k1']],\n",
    "                  [ ks['ka'], ks['kd']],\n",
    "                  [ ks['alpha'], ks['beta']],\n",
    "                  [ ks['gamma'], 0.] ])"
   ]
  },
  {
   "cell_type": "markdown",
   "metadata": {},
   "source": [
    "One can use the utility provided by rxnet.py to construct the reaction stiochiometry matrix."
   ]
  },
  {
   "cell_type": "code",
   "execution_count": 9,
   "metadata": {
    "collapsed": true
   },
   "outputs": [],
   "source": [
    "rxs = [ 'L + L = L2',  # Can also be written as '2*L = L2'\n",
    "        'L2 + R = RL2',\n",
    "        'Le = L',\n",
    "        'Le = E']"
   ]
  },
  {
   "cell_type": "code",
   "execution_count": 10,
   "metadata": {
    "collapsed": true
   },
   "outputs": [],
   "source": [
    "Crx, mols = rxnet.reactionMatrix( rxs)"
   ]
  },
  {
   "cell_type": "code",
   "execution_count": 11,
   "metadata": {},
   "outputs": [
    {
     "data": {
      "text/plain": [
       "array([[ 2., -1.,  0.,  0.,  0.,  0.],\n",
       "       [ 0.,  1.,  1., -1.,  0.,  0.],\n",
       "       [-1.,  0.,  0.,  0.,  1.,  0.],\n",
       "       [ 0.,  0.,  0.,  0.,  1., -1.]])"
      ]
     },
     "execution_count": 11,
     "metadata": {},
     "output_type": "execute_result"
    }
   ],
   "source": [
    "Crx"
   ]
  },
  {
   "cell_type": "code",
   "execution_count": 12,
   "metadata": {},
   "outputs": [
    {
     "data": {
      "text/plain": [
       "['L', 'L2', 'R', 'RL2', 'Le', 'E']"
      ]
     },
     "execution_count": 12,
     "metadata": {},
     "output_type": "execute_result"
    }
   ],
   "source": [
    "mols"
   ]
  },
  {
   "cell_type": "code",
   "execution_count": 13,
   "metadata": {
    "collapsed": true
   },
   "outputs": [],
   "source": [
    "R0 = 0.25\n",
    "x0 = np.array( [0., 0, R0, 0, 1, 0])\n",
    "tmax = 10 # hours\n",
    "xt = ness.kinetics( Crx, krx, x0, tmax*hour)"
   ]
  },
  {
   "cell_type": "code",
   "execution_count": 14,
   "metadata": {
    "collapsed": true
   },
   "outputs": [],
   "source": [
    "def set_yaxis_color( ax, color, side='left'):\n",
    "    ax.spines[side].set_color( color)\n",
    "    ax.tick_params(axis='y', colors=color)\n",
    "    ax.yaxis.label.set_color( color)\n",
    "    \n",
    "def plot_pharmacokinetics( xt, active, plasma, threshold=0.05*R0):\n",
    "    colors = ['#8da0cb','#fc8d62','#66c2a5']\n",
    "    fig, ax = plt.subplots()\n",
    "    times = xt.t/hour\n",
    "    ax.plot( times, xt.y[active], color=colors[0])\n",
    "    ax.plot( (np.min(times), np.max(times)), (threshold, threshold), '--', color=colors[0])\n",
    "    ax.set_ylim( 0, 0.05)\n",
    "    ax2 = ax.twinx()\n",
    "    ax2.plot( times, xt.y[plasma], '-', color=colors[1])\n",
    "    # ax.set_xscale( 'log')\n",
    "    ax.set_xlabel( 'Time (hours)')\n",
    "    ax.set_ylabel( 'Activity')\n",
    "    ax2.set_ylim( 1e-3, 2)\n",
    "    ax2.set_yscale( 'log')\n",
    "    ax2.set_ylabel( 'Plasma concentration')\n",
    "    set_yaxis_color( ax, colors[0])\n",
    "    set_yaxis_color( ax2, colors[1], 'right')\n",
    "    return fig"
   ]
  },
  {
   "cell_type": "code",
   "execution_count": 15,
   "metadata": {},
   "outputs": [
    {
     "data": {
      "image/png": "[encoded data removed]",
      "text/plain": [
       "<matplotlib.figure.Figure at 0x7fef942f0990>"
      ]
     },
     "metadata": {},
     "output_type": "display_data"
    }
   ],
   "source": [
    "figD = plot_pharmacokinetics( xt, mols.index('RL2'), mols.index('Le'))"
   ]
  },
  {
   "cell_type": "code",
   "execution_count": 16,
   "metadata": {},
   "outputs": [],
   "source": [
    "figD.savefig( 'figures/dimer.eps', bbox_inches='tight')"
   ]
  },
  {
   "cell_type": "markdown",
   "metadata": {},
   "source": [
    "## Monomer pharmacokinetics"
   ]
  },
  {
   "cell_type": "markdown",
   "metadata": {},
   "source": [
    "Let's now consider a monomeric drug."
   ]
  },
  {
   "cell_type": "code",
   "execution_count": 17,
   "metadata": {
    "collapsed": true
   },
   "outputs": [],
   "source": [
    "rxsM = [ 'L + R = RL',\n",
    "        'Le = L',\n",
    "        'Le = E' ]"
   ]
  },
  {
   "cell_type": "code",
   "execution_count": 18,
   "metadata": {
    "collapsed": true
   },
   "outputs": [],
   "source": [
    "CrxM, molsM = rxnet.reactionMatrix( rxsM)"
   ]
  },
  {
   "cell_type": "code",
   "execution_count": 19,
   "metadata": {},
   "outputs": [
    {
     "data": {
      "text/plain": [
       "['L', 'R', 'RL', 'Le', 'E']"
      ]
     },
     "execution_count": 19,
     "metadata": {},
     "output_type": "execute_result"
    }
   ],
   "source": [
    "molsM"
   ]
  },
  {
   "cell_type": "markdown",
   "metadata": {},
   "source": [
    "### Strong binding, moderate permeability"
   ]
  },
  {
   "cell_type": "markdown",
   "metadata": {},
   "source": [
    "Consider a drug with higher affinity but moderate permeability"
   ]
  },
  {
   "cell_type": "code",
   "execution_count": 20,
   "metadata": {
    "collapsed": true
   },
   "outputs": [],
   "source": [
    "ksM = dict( ka = 1.e2, kd = 1.e1,\n",
    "            alpha = alphas['okay'], beta = alphas['okay'],\n",
    "            gamma = gamma)\n",
    "krxM = np.array( [ \n",
    "             [ksM['ka'], ksM['kd']],\n",
    "             [ksM['alpha'], ksM['beta']],\n",
    "             [ksM['gamma'], 0.]])"
   ]
  },
  {
   "cell_type": "code",
   "execution_count": 21,
   "metadata": {
    "collapsed": true
   },
   "outputs": [],
   "source": [
    "x0M = np.array( [ 0., R0, 0., 1., 0])\n",
    "xtM = ness.kinetics( CrxM, krxM, x0M, tmax*hour)"
   ]
  },
  {
   "cell_type": "code",
   "execution_count": 22,
   "metadata": {},
   "outputs": [
    {
     "data": {
      "image/png": "[encoded data removed]",
      "text/plain": [
       "<matplotlib.figure.Figure at 0x7fef942f0f90>"
      ]
     },
     "metadata": {},
     "output_type": "display_data"
    }
   ],
   "source": [
    "figM = plot_pharmacokinetics( xtM, molsM.index('RL'), molsM.index('Le'))"
   ]
  },
  {
   "cell_type": "code",
   "execution_count": 23,
   "metadata": {
    "collapsed": true
   },
   "outputs": [],
   "source": [
    "figM.savefig( 'figures/okay-permeability.eps', bbox_inches='tight')"
   ]
  },
  {
   "cell_type": "markdown",
   "metadata": {},
   "source": [
    "### Strong binding, poor permeability"
   ]
  },
  {
   "cell_type": "markdown",
   "metadata": {},
   "source": [
    "Consider a drug with strong affinity but poor permeability"
   ]
  },
  {
   "cell_type": "code",
   "execution_count": 24,
   "metadata": {
    "collapsed": true
   },
   "outputs": [],
   "source": [
    "ksMp = dict( ka = 1.e2, kd = 1.,\n",
    "            alpha = alphas['poor'], beta = alphas['poor'],\n",
    "            gamma = gamma)\n",
    "krxMp = np.array( [ \n",
    "             [ksMp['ka'], ksMp['kd']],\n",
    "             [ksMp['alpha'], ksMp['beta']],\n",
    "             [ksMp['gamma'], 0.]])"
   ]
  },
  {
   "cell_type": "code",
   "execution_count": 25,
   "metadata": {
    "collapsed": true
   },
   "outputs": [],
   "source": [
    "xtMp = ness.kinetics( CrxM, krxMp, x0M, tmax*hour)"
   ]
  },
  {
   "cell_type": "code",
   "execution_count": 26,
   "metadata": {},
   "outputs": [
    {
     "data": {
      "image/png": "[encoded data removed]",
      "text/plain": [
       "<matplotlib.figure.Figure at 0x7fef93ac9490>"
      ]
     },
     "metadata": {},
     "output_type": "display_data"
    }
   ],
   "source": [
    "figMp = plot_pharmacokinetics( xtMp, molsM.index('RL'), molsM.index('Le'))"
   ]
  },
  {
   "cell_type": "code",
   "execution_count": 27,
   "metadata": {
    "collapsed": true
   },
   "outputs": [],
   "source": [
    "figMp.savefig( 'figures/poor-permeability.eps', bbox_inches='tight')"
   ]
  },
  {
   "cell_type": "code",
   "execution_count": null,
   "metadata": {
    "collapsed": true
   },
   "outputs": [],
   "source": []
  }
 ],
 "metadata": {
  "kernelspec": {
   "display_name": "Python 2",
   "language": "python",
   "name": "python2"
  },
  "language_info": {
   "codemirror_mode": {
    "name": "ipython",
    "version": 2
   },
   "file_extension": ".py",
   "mimetype": "text/x-python",
   "name": "python",
   "nbconvert_exporter": "python",
   "pygments_lexer": "ipython2",
   "version": "2.7.15"
  }
 },
 "nbformat": 4,
 "nbformat_minor": 2
}
